{
 "cells": [
  {
   "cell_type": "code",
   "execution_count": 455,
   "metadata": {},
   "outputs": [],
   "source": [
    "import pandas as pd\n",
    "import numpy as np\n",
    "import matplotlib.pyplot as plt\n",
    "%matplotlib inline\n",
    "import seaborn as sns\n",
    "plt.rcParams['figure.figsize'] = (4.0, 4.0) # set default size of plots\n",
    "plt.rcParams['image.interpolation'] = 'nearest'\n",
    "plt.rcParams['image.cmap'] = 'gray'\n",
    "\n",
    "from sklearn.model_selection import train_test_split\n",
    "from sklearn.model_selection import GridSearchCV\n",
    "from sklearn.neighbors import KNeighborsClassifier\n",
    "from sklearn.naive_bayes import MultinomialNB\n",
    "from sklearn.naive_bayes import GaussianNB\n",
    "from sklearn.svm import SVC\n",
    "from scipy import stats\n",
    "from sklearn.model_selection import cross_val_score\n",
    "from sklearn import ensemble"
   ]
  },
  {
   "cell_type": "code",
   "execution_count": 456,
   "metadata": {},
   "outputs": [],
   "source": [
    "# Loading the data including features from local files.\n",
    "df = pd.read_csv('/Users/jdobrow/Desktop/Data Science/Capstone 3 Files/df')\n",
    "df.drop('Unnamed: 0', 1, inplace=True)\n",
    "\n",
    "# 'Normalize' the data by putting each column on a scale from 0 - 1\n",
    "normal_df = pd.DataFrame()\n",
    "for i in range(len(df.columns)):\n",
    "    if i > 0:\n",
    "        normal_df[df.columns[i]] = (df.iloc[:,i] - df.iloc[:,i].min())/((df.iloc[:,i].max()) - df.iloc[:,i].min())\n",
    "\n",
    "# 'Standardized' data that sets the mean to 0 and each value as z-scores\n",
    "standard_df = pd.read_csv('/Users/jdobrow/Desktop/Data Science/Capstone 3 Files/standard_df')\n",
    "standard_df.drop('Unnamed: 0', 1, inplace=True)\n",
    "\n",
    "# X and Y\n",
    "X = normal_df\n",
    "Y = df['label']"
   ]
  },
  {
   "cell_type": "code",
   "execution_count": null,
   "metadata": {},
   "outputs": [],
   "source": [
    "### Naive Bayes ###"
   ]
  },
  {
   "cell_type": "code",
   "execution_count": 457,
   "metadata": {},
   "outputs": [],
   "source": [
    "X = normal_df\n",
    "Y = df['label']\n",
    "mnb = MultinomialNB()\n",
    "X_train, X_test, y_train, y_test = train_test_split(X,Y, test_size=0.1)\n",
    "mnb.fit(X_train, y_train)\n",
    "confusion2 = pd.DataFrame()\n",
    "confusion2['Actual'] = y_test\n",
    "confusion2['Prediction'] = mnb.predict(X_test)"
   ]
  },
  {
   "cell_type": "code",
   "execution_count": 458,
   "metadata": {},
   "outputs": [
    {
     "data": {
      "text/html": [
       "<div>\n",
       "<style scoped>\n",
       "    .dataframe tbody tr th:only-of-type {\n",
       "        vertical-align: middle;\n",
       "    }\n",
       "\n",
       "    .dataframe tbody tr th {\n",
       "        vertical-align: top;\n",
       "    }\n",
       "\n",
       "    .dataframe thead th {\n",
       "        text-align: right;\n",
       "    }\n",
       "</style>\n",
       "<table border=\"1\" class=\"dataframe\">\n",
       "  <thead>\n",
       "    <tr style=\"text-align: right;\">\n",
       "      <th></th>\n",
       "      <th>Actual</th>\n",
       "      <th>Prediction</th>\n",
       "    </tr>\n",
       "  </thead>\n",
       "  <tbody>\n",
       "    <tr>\n",
       "      <th>86</th>\n",
       "      <td>9</td>\n",
       "      <td>9</td>\n",
       "    </tr>\n",
       "    <tr>\n",
       "      <th>33743</th>\n",
       "      <td>4</td>\n",
       "      <td>9</td>\n",
       "    </tr>\n",
       "    <tr>\n",
       "      <th>20175</th>\n",
       "      <td>2</td>\n",
       "      <td>2</td>\n",
       "    </tr>\n",
       "    <tr>\n",
       "      <th>14387</th>\n",
       "      <td>9</td>\n",
       "      <td>9</td>\n",
       "    </tr>\n",
       "    <tr>\n",
       "      <th>35679</th>\n",
       "      <td>0</td>\n",
       "      <td>0</td>\n",
       "    </tr>\n",
       "  </tbody>\n",
       "</table>\n",
       "</div>"
      ],
      "text/plain": [
       "       Actual  Prediction\n",
       "86          9           9\n",
       "33743       4           9\n",
       "20175       2           2\n",
       "14387       9           9\n",
       "35679       0           0"
      ]
     },
     "execution_count": 458,
     "metadata": {},
     "output_type": "execute_result"
    }
   ],
   "source": [
    "# Used this to find mislabeled digits to highlight the weakness of this model in my slideshow\n",
    "confusion2.head()"
   ]
  },
  {
   "cell_type": "code",
   "execution_count": 459,
   "metadata": {},
   "outputs": [
    {
     "data": {
      "text/plain": [
       "0.7517394822527134"
      ]
     },
     "execution_count": 459,
     "metadata": {},
     "output_type": "execute_result"
    }
   ],
   "source": [
    "gnb = GaussianNB()\n",
    "cross_val_score(gnb, X, Y, cv=6).sum()/6"
   ]
  },
  {
   "cell_type": "code",
   "execution_count": 460,
   "metadata": {},
   "outputs": [],
   "source": [
    "### KNN ###"
   ]
  },
  {
   "cell_type": "code",
   "execution_count": 461,
   "metadata": {},
   "outputs": [
    {
     "data": {
      "text/plain": [
       "0.8874516956856179"
      ]
     },
     "execution_count": 461,
     "metadata": {},
     "output_type": "execute_result"
    }
   ],
   "source": [
    "neighbors = KNeighborsClassifier(n_neighbors=7, weights='distance')\n",
    "cross_val_score(neighbors, X, Y, cv=6).sum()/6"
   ]
  },
  {
   "cell_type": "code",
   "execution_count": 177,
   "metadata": {},
   "outputs": [
    {
     "data": {
      "text/plain": [
       "0.8849517357207026"
      ]
     },
     "execution_count": 177,
     "metadata": {},
     "output_type": "execute_result"
    }
   ],
   "source": [
    "neighbors = KNeighborsClassifier(n_neighbors=5, weights='distance')\n",
    "X2 = standard_df\n",
    "Y2 = df['label']\n",
    "cross_val_score(neighbors, X, Y, cv=6).sum()/6"
   ]
  },
  {
   "cell_type": "code",
   "execution_count": 163,
   "metadata": {},
   "outputs": [
    {
     "name": "stdout",
     "output_type": "stream",
     "text": [
      "0.8631904761904762\n",
      "0.8710476190476191\n",
      "0.8747142857142857\n",
      "0.8738571428571429\n",
      "0.8728571428571429\n",
      "0.8711428571428571\n",
      "0.8681428571428571\n",
      "0.8718095238095238\n",
      "0.8703809523809524\n",
      "0.8670952380952381\n",
      "0.8685238095238095\n",
      "0.8631904761904762\n",
      "0.8627142857142858\n",
      "0.8610476190476191\n",
      "0.8640952380952381\n",
      "0.8586666666666667\n",
      "0.8607142857142858\n",
      "0.8550952380952381\n",
      "0.8542380952380952\n",
      "0.8554761904761905\n"
     ]
    }
   ],
   "source": [
    "knn_scores = []\n",
    "for i in range(1, 40, 2):\n",
    "    knn = KNeighborsClassifier(n_neighbors=i, weights='distance')\n",
    "    X_train, X_test, y_train, y_test = train_test_split(X, Y, test_size=0.5)\n",
    "    knn.fit(X_train, y_train)\n",
    "    results = knn.score(X_test, y_test)\n",
    "    knn_scores.append(results)\n",
    "    print(results)"
   ]
  },
  {
   "cell_type": "code",
   "execution_count": 173,
   "metadata": {},
   "outputs": [
    {
     "data": {
      "image/png": "[encoded data removed]",
      "text/plain": [
       "<Figure size 288x288 with 1 Axes>"
      ]
     },
     "metadata": {
      "needs_background": "light"
     },
     "output_type": "display_data"
    }
   ],
   "source": [
    "plt.plot(range(1,40,2), knn_scores,)\n",
    "plt.xlabel('K', fontsize=14)\n",
    "plt.ylabel('Accuracy', fontsize=14)\n",
    "plt.show()"
   ]
  },
  {
   "cell_type": "code",
   "execution_count": null,
   "metadata": {},
   "outputs": [],
   "source": [
    "### Random Forest ###"
   ]
  },
  {
   "cell_type": "code",
   "execution_count": 199,
   "metadata": {},
   "outputs": [
    {
     "name": "stdout",
     "output_type": "stream",
     "text": [
      "0.8173015873015873\n",
      "0.9228571428571428\n",
      "0.9364285714285714\n",
      "0.9380952380952381\n",
      "0.9408730158730159\n",
      "0.9396825396825397\n",
      "0.9396031746031746\n",
      "0.9453968253968253\n",
      "0.9397619047619048\n",
      "0.9433333333333334\n",
      "0.9437301587301588\n",
      "0.9463492063492064\n",
      "0.9465079365079365\n"
     ]
    }
   ],
   "source": [
    "# iterating to examine performance with different n_estimators or 'trees'\n",
    "tree_scores = []\n",
    "for i in range(1, 105, 8):\n",
    "    rfc = ensemble.RandomForestClassifier(n_estimators=i, random_state=235)\n",
    "    X_train, X_test, y_train, y_test = train_test_split(X, Y, test_size=0.3)\n",
    "    rfc.fit(X_train, y_train)\n",
    "    results = rfc.score(X_test, y_test)\n",
    "    tree_scores.append(results)\n",
    "    print(results)"
   ]
  },
  {
   "cell_type": "code",
   "execution_count": 202,
   "metadata": {},
   "outputs": [
    {
     "data": {
      "image/png": "[encoded data removed]",
      "text/plain": [
       "<Figure size 288x288 with 1 Axes>"
      ]
     },
     "metadata": {
      "needs_background": "light"
     },
     "output_type": "display_data"
    }
   ],
   "source": [
    "plt.plot(range(1,105,8), tree_scores)\n",
    "plt.ylabel('Accuracy', fontsize=15)\n",
    "plt.xlabel('Number of Trees', fontsize=15)\n",
    "plt.show()"
   ]
  },
  {
   "cell_type": "code",
   "execution_count": 192,
   "metadata": {},
   "outputs": [
    {
     "name": "stdout",
     "output_type": "stream",
     "text": [
      "0.6019047619047619\n",
      "0.8357142857142857\n",
      "0.9160317460317461\n",
      "0.9319047619047619\n",
      "0.9408730158730159\n",
      "0.9396825396825397\n",
      "0.9399206349206349\n",
      "0.9417460317460318\n",
      "0.9416666666666667\n",
      "0.9388095238095238\n",
      "0.936984126984127\n",
      "0.9405555555555556\n",
      "0.9421428571428572\n",
      "0.9404761904761905\n",
      "0.9418253968253968\n",
      "0.9419047619047619\n",
      "0.9428571428571428\n",
      "0.9392857142857143\n",
      "0.9422222222222222\n",
      "0.9397619047619048\n"
     ]
    }
   ],
   "source": [
    "# Accuracy at different max_depths\n",
    "depth_scores = []\n",
    "for i in range(1, 80, 4):\n",
    "    rfc = ensemble.RandomForestClassifier(n_estimators=30, max_depth = i, random_state=235)\n",
    "    X_train, X_test, y_train, y_test = train_test_split(X, Y, test_size=0.3)\n",
    "    rfc.fit(X_train, y_train)\n",
    "    results = rfc.score(X_test, y_test)\n",
    "    depth_scores.append(results)\n",
    "    print(results)"
   ]
  },
  {
   "cell_type": "code",
   "execution_count": 206,
   "metadata": {},
   "outputs": [
    {
     "data": {
      "image/png": "[encoded data removed]",
      "text/plain": [
       "<Figure size 288x288 with 1 Axes>"
      ]
     },
     "metadata": {
      "needs_background": "light"
     },
     "output_type": "display_data"
    }
   ],
   "source": [
    "plt.plot(range(1,80,4), depth_scores)\n",
    "plt.xlabel('Max_Depth', fontsize=15)\n",
    "plt.ylabel('Accuracy', fontsize=15)\n",
    "plt.show()"
   ]
  },
  {
   "cell_type": "code",
   "execution_count": 425,
   "metadata": {},
   "outputs": [
    {
     "name": "stdout",
     "output_type": "stream",
     "text": [
      "[0.95268664 0.94671741 0.94835792 0.94929779 0.94357143 0.94403429\n",
      " 0.94284353 0.94972599 0.95162059 0.94733079]\n",
      "Average Accuracy with 10-fold cross validation:  0.9476186394816379\n"
     ]
    }
   ],
   "source": [
    "# Best random forest model\n",
    "rfc = ensemble.RandomForestClassifier(n_estimators=300, max_depth=20)\n",
    "result = cross_val_score(rfc,X,Y,cv=10)\n",
    "print(result)\n",
    "print('Average Accuracy with 10-fold cross validation: ', result.sum()/10)"
   ]
  },
  {
   "cell_type": "code",
   "execution_count": null,
   "metadata": {},
   "outputs": [],
   "source": [
    "rfc = ensemble.RandomForestClassifier(n_estimators=300, max_depth=20)\n",
    "X_train, X_test, y_train, y_test = train_test_split(X, Y, test_size=0.2)\n",
    "rfc.fit(X_train, y_train)\n",
    "predictions = rfc.predict(X_test)\n",
    "confusion = pd.DataFrame()\n",
    "confusion['Predictions'] = predictions\n",
    "confusion['Actual'] = y_test\n",
    "\n",
    "correct = []\n",
    "for i in range(len(confusion)):\n",
    "    if confusion.Actual.iloc[i] == confusion.Predictions.iloc[i]:\n",
    "        correct.append(1)\n",
    "    else:\n",
    "        correct.append(0)\n",
    "confusion['IsCorrect'] = correct\n",
    "pd.crosstab(confusion.Predictions, confusion.Actual)"
   ]
  },
  {
   "cell_type": "code",
   "execution_count": null,
   "metadata": {},
   "outputs": [],
   "source": [
    "### Support Vector Classifier ###"
   ]
  },
  {
   "cell_type": "code",
   "execution_count": 301,
   "metadata": {
    "collapsed": true
   },
   "outputs": [
    {
     "name": "stdout",
     "output_type": "stream",
     "text": [
      "0.48\n",
      "0.415\n",
      "0.265\n",
      "0.24\n",
      "0.2225\n",
      "0.1525\n",
      "0.4925\n",
      "0.6675\n",
      "0.6275\n",
      "0.35\n",
      "0.22\n",
      "0.2125\n",
      "0.5175\n",
      "0.68\n",
      "0.7825\n",
      "0.74\n",
      "0.3275\n",
      "0.25\n",
      "0.5025\n",
      "0.6525\n",
      "0.7825\n",
      "0.83\n",
      "0.775\n",
      "0.385\n",
      "0.4625\n",
      "0.6575\n",
      "0.7775\n",
      "0.83\n",
      "0.8175\n",
      "0.765\n",
      "0.505\n",
      "0.6825\n",
      "0.7675\n",
      "0.81\n",
      "0.7875\n",
      "0.845\n"
     ]
    }
   ],
   "source": [
    "svcs_1 = []\n",
    "Cs_1 = []\n",
    "gammas_1 = []\n",
    "Cs = [1, 10, 100, 1000, 10000, 1000000]\n",
    "gammas = [.1, .01, .001, .0001, .00001, .000001]\n",
    "for i in Cs:\n",
    "    for j in gammas:\n",
    "        svc = SVC(kernel='rbf', C=i, gamma=j)\n",
    "        #Using  larger test size to improve runtime\n",
    "        X_train, X_test, y_train, y_test = train_test_split(X, Y, test_size=0.4)\n",
    "        svc.fit(X_train, y_train)\n",
    "        results = svc.score(X_test, y_test)\n",
    "        svcs_1.append(results)\n",
    "        Cs_1.append(i)\n",
    "        gammas_1.append(j)\n",
    "svcs1_df = pd.DataFrame()\n",
    "svcs1_df['svc'] = svcs_1\n",
    "svcs1_df['Cs'] = Cs_1\n",
    "svcs1_df['gammas'] = gammas_1\n",
    "svcs1_df = svcs1_df.pivot('Cs', 'gammas', 'svcs2')\n",
    "sns.heatmap(svcs1_df, vmin = .90)\n",
    "plt.xticks(rotation=90)\n",
    "plt.yticks(rotation=0)\n",
    "plt.ylabel('C', fontsize=14)\n",
    "plt.xlabel('gamma', fontsize=14)\n",
    "plt.title('Accuracy at Different Parameters', fontsize=14)\n",
    "plt.show()"
   ]
  },
  {
   "cell_type": "code",
   "execution_count": null,
   "metadata": {},
   "outputs": [],
   "source": [
    "### Gradient Boost ###"
   ]
  },
  {
   "cell_type": "code",
   "execution_count": null,
   "metadata": {},
   "outputs": [],
   "source": [
    "# Using the feature importance function of the gradient boosting classifier to play with dimension reduction\n",
    "# Note: I ended up not cutting any features. For my purposes here I was trying to get the best submission to\n",
    "# Kaggle, and all of my features contributed. If I was to improve this model I would spend a lot more time\n",
    "# feature engineering...I need more features not less!\n",
    "clf = ensemble.GradientBoostingClassifier(n_estimators=100, max_depth=2, loss = 'deviance')\n",
    "X = normal_df.drop('label', 1)\n",
    "Y = df['label']\n",
    "\n",
    "X_train, X_test, y_train, y_test = train_test_split(X, Y, test_size=0.3)\n",
    "clf.fit(X_train, y_train)\n",
    "clf.score(X_test, y_test)\n",
    "\n",
    "feature_importance = clf.feature_importances_\n",
    "\n",
    "feature_importance = 100.0 * (feature_importance / feature_importance.max())\n",
    "sorted_idx = np.argsort(feature_importance)\n",
    "pos = np.arange(sorted_idx.shape[0]) + .5\n",
    "plt.figure(figsize=(11,11))\n",
    "plt.subplot(1, 2, 2)\n",
    "plt.barh(pos, feature_importance[sorted_idx], align='center')\n",
    "plt.yticks(pos, X.columns[sorted_idx])\n",
    "plt.xlabel('Relative Importance')\n",
    "plt.title('Variable Importance')\n",
    "plt.show()"
   ]
  },
  {
   "cell_type": "code",
   "execution_count": 207,
   "metadata": {
    "collapsed": true
   },
   "outputs": [
    {
     "name": "stdout",
     "output_type": "stream",
     "text": [
      "0.7448412698412699\n",
      "0.7684126984126984\n",
      "0.7947619047619048\n",
      "0.8208730158730159\n",
      "0.8371428571428572\n",
      "0.8475396825396826\n",
      "0.8606349206349206\n",
      "0.8711111111111111\n",
      "0.8845238095238095\n",
      "0.8859523809523809\n",
      "0.8915873015873016\n",
      "0.8942857142857142\n",
      "0.8965873015873016\n",
      "0.9044444444444445\n",
      "0.9087301587301587\n",
      "0.9042857142857142\n",
      "0.9106349206349207\n",
      "0.9152380952380952\n",
      "0.9094444444444445\n",
      "0.9132539682539682\n",
      "0.9142063492063492\n",
      "0.9161111111111111\n",
      "0.9221428571428572\n",
      "0.9217460317460318\n",
      "0.9216666666666666\n",
      "0.9242857142857143\n",
      "0.9256349206349206\n",
      "0.9277777777777778\n",
      "0.9250793650793651\n",
      "0.9283333333333333\n",
      "0.9319047619047619\n",
      "0.9291269841269841\n",
      "0.928015873015873\n",
      "0.9342857142857143\n",
      "0.934047619047619\n",
      "0.9334126984126984\n",
      "0.9334126984126984\n",
      "0.9318253968253968\n",
      "0.932936507936508\n",
      "0.9363492063492064\n"
     ]
    }
   ],
   "source": [
    "# Iterating at different boosting stages and max_depths and comparing with a plot\n",
    "gradient_num_trees = [[],[],[],[]]\n",
    "for depth in range(2,6):\n",
    "    for i in range(1, 160, 4):\n",
    "        clf = ensemble.GradientBoostingClassifier(n_estimators=i, max_depth=depth, loss = 'deviance', random_state=123)\n",
    "        X_train, X_test, y_train, y_test = train_test_split(X, Y, test_size=0.3)\n",
    "        clf.fit(X_train, y_train)\n",
    "        results = clf.score(X_test, y_test)\n",
    "        gradient_num_trees[depth-2].append(results)\n",
    "\n",
    "plt.plot(range(1,160,4), gradient_num_trees[0], label = 'Max Depth 2')\n",
    "plt.plot(range(1,160,4), gradient_num_trees[1], label = 'Max Depth 3')\n",
    "plt.plot(range(1,160,4), gradient_num_trees[2], label = 'Max Depth 4')\n",
    "plt.plot(range(1,160,4), gradient_num_trees[3], label = 'Max Depth 5')\n",
    "plt.ylabel('Accuracy', fontsize=12)\n",
    "plt.xlabel('Number of Boosting Stages', fontsize=12)\n",
    "plt.legend()\n",
    "plt.title('Gradient Boost Classifier', fontsize=15)\n",
    "plt.show()"
   ]
  },
  {
   "cell_type": "code",
   "execution_count": null,
   "metadata": {},
   "outputs": [],
   "source": [
    "# Max depth of 4 looked the best and I ramped up my n_estimators since this model is resistant to overfitting\n",
    "# and got my best model overall!\n",
    "clf = ensemble.GradientBoostingClassifier(n_estimators=500, max_depth=4, loss = 'deviance')\n",
    "X = normal_df\n",
    "Y = df['label']\n",
    "results = cross_val_score(clf, X, Y, cv=10)\n",
    "print(results)\n",
    "print(results.sum()/10)"
   ]
  },
  {
   "cell_type": "code",
   "execution_count": null,
   "metadata": {},
   "outputs": [],
   "source": [
    "# Running the model on the test set and writing it to a csv to be submitted to Kaggle\n",
    "clf = ensemble.GradientBoostingClassifier(n_estimators=500, max_depth=4, loss = 'deviance')\n",
    "X = df.drop('label', 1)\n",
    "Y = df['label']\n",
    "clf.fit(X,Y)\n",
    "final_results = clf.predict(test_df)\n",
    "submission2 = pd.DataFrame()\n",
    "submission2['ImageId'] = range(1,28001)\n",
    "submission2['Label'] = final_results\n",
    "submission2.to_csv('/Users/jdobrow/Desktop/Data Science/Capstone 3 Files/submission2', index=False)"
   ]
  },
  {
   "cell_type": "code",
   "execution_count": 339,
   "metadata": {
    "collapsed": true
   },
   "outputs": [
    {
     "name": "stdout",
     "output_type": "stream",
     "text": [
      "0.9495238095238095\n",
      "0.9497619047619048\n",
      "0.9494047619047619\n",
      "0.9497023809523809\n",
      "0.9494642857142858\n",
      "0.9493452380952381\n",
      "0.9495833333333333\n",
      "0.9493452380952381\n",
      "0.9492261904761905\n"
     ]
    }
   ],
   "source": [
    "svcs_2 = []\n",
    "Cs_2 = []\n",
    "gammas_2 = []\n",
    "Cs = [87, 88, 89]\n",
    "gammas = [.0114, .0115, .0116]\n",
    "for i in Cs:\n",
    "    for j in gammas:\n",
    "        svc2 = SVC(kernel='rbf', C=i, gamma=j)\n",
    "        X_train, X_test, y_train, y_test = train_test_split(X, Y, test_size=0.2, random_state=419)\n",
    "        svc2.fit(X_train, y_train)\n",
    "        results = svc2.score(X_test, y_test)\n",
    "        svcs_2.append(results)\n",
    "        Cs_2.append(i)\n",
    "        gammas_2.append(j)\n",
    "svcs2_df = pd.DataFrame()\n",
    "svcs2_df['svc'] = svcs_2\n",
    "svcs2_df['Cs'] = Cs_2\n",
    "svcs2_df['gammas'] = gammas_2\n",
    "svcs2_df = svcs2_df.pivot('Cs', 'gammas', 'svcs2')\n",
    "sns.heatmap(svcs2_df, vmin = .948)\n",
    "plt.xticks(rotation=90)\n",
    "plt.yticks(rotation=0)\n",
    "plt.ylabel('C', fontsize=14)\n",
    "plt.xlabel('gamma', fontsize=14)\n",
    "plt.title('Accuracy at Different Parameters', fontsize=14)\n",
    "plt.show()"
   ]
  },
  {
   "cell_type": "code",
   "execution_count": 409,
   "metadata": {},
   "outputs": [
    {
     "name": "stdout",
     "output_type": "stream",
     "text": [
      "[0.95601522 0.952902   0.95026178 0.95643894 0.95166667 0.94713027\n",
      " 0.95332222 0.95115559 0.95448046 0.94971401]\n",
      "Average Accuracy of 10-fold cross validation: 0.9523087151271549\n"
     ]
    }
   ],
   "source": [
    "# Best Model\n",
    "X = normal_df\n",
    "Y = df['label']\n",
    "svc = SVC(kernel='rbf', C=87, gamma=0.0115)\n",
    "result = cross_val_score(svc,X,Y,cv=10)\n",
    "print(result)\n",
    "print('Average Accuracy of 10-fold cross validation: ' + str(result.sum()/10))"
   ]
  },
  {
   "cell_type": "code",
   "execution_count": null,
   "metadata": {},
   "outputs": [],
   "source": [
    "###"
   ]
  },
  {
   "cell_type": "code",
   "execution_count": 407,
   "metadata": {},
   "outputs": [
    {
     "name": "stdout",
     "output_type": "stream",
     "text": [
      "Pixel 0: 2.3821579256422824e-45\n",
      "Pixel 1: 0.0\n",
      "Pixel 2: 0.0\n",
      "Pixel 3: 0.0\n",
      "Pixel 4: 0.0\n",
      "Pixel 5: 0.0\n",
      "Pixel 6: 0.0\n",
      "Pixel 7: 0.0\n",
      "Pixel 8: 0.0\n",
      "Pixel 9: 0.0\n",
      "Pixel 10: 0.0\n",
      "Pixel 11: 0.0\n",
      "Pixel 12: 0.0\n",
      "Pixel 13: 0.0\n",
      "Pixel 14: 0.0\n",
      "Pixel 15: 0.0\n",
      "Pixel 16: 0.0\n",
      "Pixel 17: 0.0\n",
      "Pixel 18: 0.0\n",
      "Pixel 19: 3.319581206052907e-302\n",
      "Pixel 20: 0.0\n",
      "Pixel 21: 0.0\n",
      "Pixel 22: 5.032777804517567e-97\n",
      "Pixel 23: 0.0\n",
      "Pixel 24: 0.0\n",
      "Pixel 25: 0.0\n",
      "Pixel 26: 0.0\n",
      "Pixel 27: 0.0\n",
      "Pixel 28: 0.0\n",
      "Pixel 29: 0.0\n",
      "Pixel 30: 2.0817359509243707e-165\n",
      "Pixel 31: 0.0\n",
      "Pixel 32: 0.0\n",
      "Pixel 33: 0.0\n",
      "Pixel 34: 0.0\n",
      "Pixel 35: 6.641854078548399e-154\n"
     ]
    }
   ],
   "source": [
    "# Testing with chisquare if my pixel dummy features are significantly different from random chance.\n",
    "for j in range(36):\n",
    "    array=[]\n",
    "    for i in range(10):\n",
    "        array.append(len(pixel_df[(pixel_df['CondPix' + str(j)] == 1) & (pixel_df['label'] == i)]))\n",
    "    print('Pixel '+str(j) + ':', stats.chisquare(array)[1])"
   ]
  },
  {
   "cell_type": "code",
   "execution_count": null,
   "metadata": {},
   "outputs": [],
   "source": []
  }
 ],
 "metadata": {
  "kernelspec": {
   "display_name": "Python 3",
   "language": "python",
   "name": "python3"
  },
  "language_info": {
   "codemirror_mode": {
    "name": "ipython",
    "version": 3
   },
   "file_extension": ".py",
   "mimetype": "text/x-python",
   "name": "python",
   "nbconvert_exporter": "python",
   "pygments_lexer": "ipython3",
   "version": "3.7.3"
  }
 },
 "nbformat": 4,
 "nbformat_minor": 2
}
